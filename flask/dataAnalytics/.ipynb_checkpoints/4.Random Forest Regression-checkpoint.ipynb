{
 "cells": [
  {
   "cell_type": "markdown",
   "metadata": {},
   "source": [
    "# Random Forest Regression"
   ]
  },
  {
   "cell_type": "markdown",
   "metadata": {},
   "source": [
    "  "
   ]
  },
  {
   "cell_type": "markdown",
   "metadata": {},
   "source": [
    "## Reading Data"
   ]
  },
  {
   "cell_type": "code",
   "execution_count": 23,
   "metadata": {},
   "outputs": [],
   "source": [
    "import pandas as pd\n",
    "import matplotlib.pyplot as plt\n",
    "import numpy as np\n",
    "import math\n",
    "from sklearn import metrics\n",
    "from sklearn.model_selection import train_test_split, GridSearchCV\n",
    "from sklearn.preprocessing import MinMaxScaler\n",
    "from sklearn.ensemble import RandomForestRegressor\n",
    "from sklearn.model_selection import cross_validate, cross_val_score "
   ]
  },
  {
   "cell_type": "code",
   "execution_count": 2,
   "metadata": {},
   "outputs": [],
   "source": [
    "df = pd.read_csv('WeekdayMar30.csv',  keep_default_na=True, sep=',\\s+', delimiter=',', index_col=0)\n",
    "#df = pd.read_csv('DataCleanedMar28th_test.csv',  keep_default_na=True, sep=',\\s+', delimiter=',', index_col=0)\n",
    "#choose location\n",
    "df=df.loc[(df['day']==0)]\n",
    "#df.head(10)"
   ]
  },
  {
   "cell_type": "code",
   "execution_count": 3,
   "metadata": {},
   "outputs": [
    {
     "data": {
      "text/plain": [
       "11.765377855887522"
      ]
     },
     "execution_count": 3,
     "metadata": {},
     "output_type": "execute_result"
    }
   ],
   "source": [
    "df.avail_bikes.mean()"
   ]
  },
  {
   "cell_type": "markdown",
   "metadata": {},
   "source": [
    "## Preparing the data"
   ]
  },
  {
   "cell_type": "code",
   "execution_count": 4,
   "metadata": {},
   "outputs": [],
   "source": [
    "for feature in df.select_dtypes(['int64','float64']):\n",
    "    if np.std(df[feature])==0:\n",
    "        df=df.drop(feature, 1)\n",
    "df=df.drop('last_update', 1)\n",
    "df=df.reset_index(drop=True)"
   ]
  },
  {
   "cell_type": "code",
   "execution_count": 5,
   "metadata": {},
   "outputs": [],
   "source": [
    "# Prepare the descriptive features\n",
    "#print(df.head(10))\n",
    "#cont_features = ['Size']\n",
    "cont_features = list(df.columns.values)\n",
    "cont_features.remove('avail_bikes')\n",
    "X = df[cont_features]\n",
    "y = df.avail_bikes\n",
    "\n",
    "#print(\"\\nDescriptive features in X:\\n\", X)\n",
    "#print(\"\\nTarget feature in y:\\n\", y)\n",
    "X_train, X_test, y_train, y_test = train_test_split(X, y, test_size=0.25, shuffle=False)\n",
    "X_test=X_test.reset_index(drop=True)\n",
    "y_test=y_test.reset_index(drop=True)"
   ]
  },
  {
   "cell_type": "markdown",
   "metadata": {},
   "source": [
    "## Training the data"
   ]
  },
  {
   "cell_type": "markdown",
   "metadata": {},
   "source": [
    "# ASK WHAT THIS DOES"
   ]
  },
  {
   "cell_type": "code",
   "execution_count": 6,
   "metadata": {},
   "outputs": [
    {
     "name": "stderr",
     "output_type": "stream",
     "text": [
      "/home/niamh/bin/anaconda3/lib/python3.7/site-packages/sklearn/preprocessing/data.py:323: DataConversionWarning: Data with input dtype int64, float64 were all converted to float64 by MinMaxScaler.\n",
      "  return self.partial_fit(X, y)\n",
      "/home/niamh/bin/anaconda3/lib/python3.7/site-packages/sklearn/preprocessing/data.py:323: DataConversionWarning: Data with input dtype int64, float64 were all converted to float64 by MinMaxScaler.\n",
      "  return self.partial_fit(X, y)\n",
      "/home/niamh/bin/anaconda3/lib/python3.7/site-packages/sklearn/preprocessing/data.py:323: DataConversionWarning: Data with input dtype int64, float64 were all converted to float64 by MinMaxScaler.\n",
      "  return self.partial_fit(X, y)\n"
     ]
    }
   ],
   "source": [
    "scaler = MinMaxScaler(feature_range=(0, 1)) #does range have to be between 0-1 for RF\n",
    "X_train = scaler.fit_transform(X_train);\n",
    "X_test = scaler.fit_transform(X_test);\n",
    "X = scaler.fit_transform(X);"
   ]
  },
  {
   "cell_type": "code",
   "execution_count": 7,
   "metadata": {},
   "outputs": [],
   "source": [
    "def rfr_model(X, y):\n",
    "# Perform Grid-Search\n",
    "    gsc = GridSearchCV( #finds best parameters to use\n",
    "        estimator=RandomForestRegressor(),\n",
    "        param_grid={\n",
    "            'max_depth': range(3,10),\n",
    "            'n_estimators': (10, 50, 100, 1000),\n",
    "        },\n",
    "        cv=5, scoring='neg_mean_squared_error', verbose=0, n_jobs=-1)\n",
    "    \n",
    "    grid_result = gsc.fit(X, y)\n",
    "    best_params = grid_result.best_params_\n",
    "    \n",
    "    rfr = RandomForestRegressor(max_depth=best_params[\"max_depth\"], n_estimators=best_params[\"n_estimators\"],random_state=False, verbose=False)\n",
    "    rfr=rfr.fit(X,y)\n",
    "    return rfr\n",
    "    # Perform K-Fold CV"
   ]
  },
  {
   "cell_type": "code",
   "execution_count": 9,
   "metadata": {},
   "outputs": [
    {
     "name": "stderr",
     "output_type": "stream",
     "text": [
      "/home/niamh/bin/anaconda3/lib/python3.7/site-packages/sklearn/model_selection/_search.py:841: DeprecationWarning: The default of the `iid` parameter will change from True to False in version 0.22 and will be removed in 0.24. This will change numeric results when test-set sizes are unequal.\n",
      "  DeprecationWarning)\n"
     ]
    },
    {
     "name": "stdout",
     "output_type": "stream",
     "text": [
      "Features: \n",
      " ['time', 'temp', 'wind_speed', 'visibility', 'Clouds', 'Drizzle', 'mist', 'fog']\n",
      "Coeficients: \n",
      " [8.68584914e-01 7.34475490e-02 3.41883974e-02 1.15524833e-02\n",
      " 8.54992353e-03 2.18522282e-06 0.00000000e+00 3.67454715e-03]\n"
     ]
    }
   ],
   "source": [
    "model=rfr_model(X_train, y_train)"
   ]
  },
  {
   "cell_type": "code",
   "execution_count": 13,
   "metadata": {
    "scrolled": true
   },
   "outputs": [
    {
     "name": "stdout",
     "output_type": "stream",
     "text": [
      "Features and coeficients: [('time', 0.8685849143700838), ('temp', 0.07344754901506191), ('wind_speed', 0.034188397416280054), ('visibility', 0.011552483291672582), ('Clouds', 0.008549923531286686), ('Drizzle', 2.1852228237197e-06), ('mist', 0.0), ('fog', 0.0036745471527916645)]\n"
     ]
    }
   ],
   "source": [
    "#print(\"Features: \\n\", cont_features)\n",
    "#print(\"Coeficients: \\n\", model.feature_importances_)\n",
    "print(\"Features and coeficients:\", list(zip(cont_features, model.feature_importances_)))"
   ]
  },
  {
   "cell_type": "markdown",
   "metadata": {},
   "source": [
    "### Testing the model on training set"
   ]
  },
  {
   "cell_type": "code",
   "execution_count": 15,
   "metadata": {},
   "outputs": [
    {
     "name": "stdout",
     "output_type": "stream",
     "text": [
      "Predictions on training data:\n",
      "\n",
      "Predictions with multiple linear regression: \n",
      "\n",
      "     avail_bikes  Predicted\n",
      "0             16  16.000000\n",
      "1             16  16.000000\n",
      "2             16  16.000000\n",
      "3             16  16.000000\n",
      "4             16  16.000000\n",
      "5             16  16.000000\n",
      "6             16  16.000000\n",
      "7             16  16.000000\n",
      "8             16  16.000000\n",
      "9             16  16.000000\n",
      "10            16  16.000000\n",
      "11            16  16.000000\n",
      "12            16  16.000000\n",
      "13            16  16.000000\n",
      "14            16  16.000000\n",
      "15            16  16.000000\n",
      "16            16  16.000000\n",
      "17            16  16.000000\n",
      "18            16  16.000000\n",
      "19            16  16.000000\n",
      "20            16  16.000000\n",
      "21            16  16.000000\n",
      "22            16  16.000000\n",
      "23            16  16.000000\n",
      "24            16  16.000000\n",
      "25            16  16.000000\n",
      "26            16  16.000000\n",
      "27            16  16.000000\n",
      "28            16  16.000000\n",
      "29            16  16.000000\n",
      "..           ...        ...\n",
      "823            5   4.874799\n",
      "824            4   4.874799\n",
      "825            3   3.485251\n",
      "826            3   1.768025\n",
      "827            2   1.768025\n",
      "828            0   1.768025\n",
      "829            0   0.975750\n",
      "830            0   0.975750\n",
      "831            0   1.437928\n",
      "832            0   1.233477\n",
      "833            0   1.233477\n",
      "834            1   1.243477\n",
      "835            1   1.247529\n",
      "836            0   1.345129\n",
      "837            0   0.815328\n",
      "838            0   0.769294\n",
      "839            0   0.756770\n",
      "840            0   0.833136\n",
      "841            0   0.879033\n",
      "842            0   0.886751\n",
      "843            1   0.886751\n",
      "844            1   0.921134\n",
      "845            1   0.921134\n",
      "846            1   0.921134\n",
      "847            0   0.917976\n",
      "848            0   0.974604\n",
      "849            1   0.974604\n",
      "850            1   0.998763\n",
      "851            3   1.126828\n",
      "852            2   1.209931\n",
      "\n",
      "[853 rows x 2 columns]\n"
     ]
    }
   ],
   "source": [
    "rfr_predictions = model.predict(X_train)\n",
    "print(\"Predictions on training data:\")\n",
    "print(\"\\nPredictions with multiple linear regression: \\n\")\n",
    "actual_vs_predicted_rfr = pd.concat([y_train, pd.DataFrame(rfr_predictions, columns=['Predicted'])], axis=1)\n",
    "print(actual_vs_predicted_rfr)"
   ]
  },
  {
   "cell_type": "code",
   "execution_count": 16,
   "metadata": {},
   "outputs": [],
   "source": [
    "#This function is used repeatedly to compute all metrics\n",
    "def printMetrics(testActualVal, predictions):\n",
    "    #classification evaluation measures\n",
    "    print('\\n==============================================================================')\n",
    "    print(\"MAE: \", metrics.mean_absolute_error(testActualVal, predictions))\n",
    "    #print(\"MSE: \", metrics.mean_squared_error(testActualVal, predictions))\n",
    "    print(\"RMSE: \", metrics.mean_squared_error(testActualVal, predictions)**0.5)\n",
    "    print(\"R2: \", metrics.r2_score(testActualVal, predictions))\n",
    "        "
   ]
  },
  {
   "cell_type": "code",
   "execution_count": 19,
   "metadata": {},
   "outputs": [
    {
     "name": "stdout",
     "output_type": "stream",
     "text": [
      "\n",
      "==============================================================================\n",
      "MAE:  0.5741465501869936\n",
      "RMSE:  0.8968930030301981\n",
      "R2:  0.994872523068409\n"
     ]
    }
   ],
   "source": [
    "printMetrics(y_train, rfr_predictions)"
   ]
  },
  {
   "cell_type": "markdown",
   "metadata": {},
   "source": [
    "### Testing on Test Set"
   ]
  },
  {
   "cell_type": "code",
   "execution_count": 20,
   "metadata": {},
   "outputs": [
    {
     "name": "stdout",
     "output_type": "stream",
     "text": [
      "Predictions on training data:\n",
      "\n",
      "Predictions with multiple linear regression: \n",
      "\n",
      "     avail_bikes  Predicted\n",
      "0              2   1.711905\n",
      "1              0   1.610982\n",
      "2              0   1.643249\n",
      "3              1   1.210523\n",
      "4              1   1.210523\n",
      "5              1   0.768864\n",
      "6              1   0.758566\n",
      "7              0   0.758566\n",
      "8              1   0.758566\n",
      "9              1   0.758566\n",
      "10             1   0.758566\n",
      "11             0   0.758566\n",
      "12             0   0.758566\n",
      "13             1   0.758566\n",
      "14             2   0.758566\n",
      "15             2   0.758566\n",
      "16             2   0.758566\n",
      "17             0   0.758566\n",
      "18             0   1.054017\n",
      "19             0   1.105184\n",
      "20             2   1.105184\n",
      "21             1   1.111399\n",
      "22             2   1.318514\n",
      "23             2   1.318514\n",
      "24             2   1.318514\n",
      "25             3   1.318514\n",
      "26             3   1.506038\n",
      "27             5   1.506038\n",
      "28             6   1.506038\n",
      "29             6   1.505801\n",
      "..           ...        ...\n",
      "255           26  26.208308\n",
      "256           27  26.208308\n",
      "257           27  26.208308\n",
      "258           28  27.596000\n",
      "259           29  27.596000\n",
      "260           31  27.662667\n",
      "261           32  27.662667\n",
      "262           32  27.662667\n",
      "263           34  27.662667\n",
      "264           35  35.609810\n",
      "265           35  35.609810\n",
      "266           35  35.609810\n",
      "267           34  35.609810\n",
      "268           34  38.594092\n",
      "269           36  38.594092\n",
      "270           35  38.660032\n",
      "271           36  38.650032\n",
      "272           38  38.650032\n",
      "273           39  38.650076\n",
      "274           39  38.660076\n",
      "275           39  38.660076\n",
      "276           40  38.660076\n",
      "277           40  38.919745\n",
      "278           40  38.919745\n",
      "279           40  39.423364\n",
      "280           40  38.406675\n",
      "281           40  38.488620\n",
      "282           40  38.714422\n",
      "283           40  37.936578\n",
      "284           40  38.136578\n",
      "\n",
      "[285 rows x 2 columns]\n"
     ]
    }
   ],
   "source": [
    "rfr_predictions = model.predict(X_test)\n",
    "print(\"Predictions on training data:\")\n",
    "print(\"\\nPredictions with multiple linear regression: \\n\")\n",
    "actual_vs_predicted_rfr = pd.concat([y_test, pd.DataFrame(rfr_predictions, columns=['Predicted'])], axis=1)\n",
    "print(actual_vs_predicted_rfr)"
   ]
  },
  {
   "cell_type": "code",
   "execution_count": 21,
   "metadata": {},
   "outputs": [
    {
     "name": "stdout",
     "output_type": "stream",
     "text": [
      "\n",
      "==============================================================================\n",
      "MAE:  3.551792254689722\n",
      "RMSE:  5.6298380057621635\n",
      "R2:  0.7634375455306621\n"
     ]
    }
   ],
   "source": [
    "printMetrics(y_test, rfr_predictions)"
   ]
  },
  {
   "cell_type": "code",
   "execution_count": 25,
   "metadata": {},
   "outputs": [
    {
     "name": "stdout",
     "output_type": "stream",
     "text": [
      "MAE : 3.7053958307578734 | RMSE : 5.102191877981884 | r2 : 0.7041238023943848\n"
     ]
    }
   ],
   "source": [
    "scoring = {'abs_error': 'neg_mean_absolute_error', 'squared_error': 'neg_mean_squared_error', 'r2':'r2'}\n",
    "\n",
    "scores = cross_validate(model, X_train, y_train, cv=10, scoring=scoring, return_train_score=True)\n",
    "print(\"MAE :\", abs(scores['test_abs_error'].mean()), \"| RMSE :\", math.sqrt(abs(scores['test_squared_error'].mean())), \"| r2 :\", scores['test_r2'].mean())"
   ]
  },
  {
   "cell_type": "code",
   "execution_count": 26,
   "metadata": {},
   "outputs": [
    {
     "name": "stdout",
     "output_type": "stream",
     "text": [
      "MAE : 4.439395733872642 | RMSE : 6.2616255713180236 | r2 : -5.89681346777885\n"
     ]
    }
   ],
   "source": [
    "scoring = {'abs_error': 'neg_mean_absolute_error', 'squared_error': 'neg_mean_squared_error', 'r2':'r2'}\n",
    "\n",
    "scores = cross_validate(model, X_test, y_test, cv=10, scoring=scoring, return_train_score=True)\n",
    "print(\"MAE :\", abs(scores['test_abs_error'].mean()), \"| RMSE :\", math.sqrt(abs(scores['test_squared_error'].mean())), \"| r2 :\", scores['test_r2'].mean())"
   ]
  },
  {
   "cell_type": "code",
   "execution_count": 28,
   "metadata": {},
   "outputs": [
    {
     "name": "stdout",
     "output_type": "stream",
     "text": [
      "MAE : 3.828822527541985 | RMSE : 5.506134044514017 | r2 : 0.6029947376697768\n"
     ]
    }
   ],
   "source": [
    "scoring = {'abs_error': 'neg_mean_absolute_error', 'squared_error': 'neg_mean_squared_error', 'r2':'r2'}\n",
    "\n",
    "scores = cross_validate(model, X, y, cv=10, scoring=scoring, return_train_score=True)\n",
    "print(\"MAE :\", abs(scores['test_abs_error'].mean()), \"| RMSE :\", math.sqrt(abs(scores['test_squared_error'].mean())), \"| r2 :\", scores['test_r2'].mean())"
   ]
  },
  {
   "cell_type": "code",
   "execution_count": null,
   "metadata": {},
   "outputs": [],
   "source": []
  }
 ],
 "metadata": {
  "kernelspec": {
   "display_name": "dublinBikes",
   "language": "python",
   "name": "dublinbikes"
  },
  "language_info": {
   "codemirror_mode": {
    "name": "ipython",
    "version": 3
   },
   "file_extension": ".py",
   "mimetype": "text/x-python",
   "name": "python",
   "nbconvert_exporter": "python",
   "pygments_lexer": "ipython3",
   "version": "3.7.2"
  }
 },
 "nbformat": 4,
 "nbformat_minor": 2
}
